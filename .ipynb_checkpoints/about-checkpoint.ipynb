{
 "cells": [
  {
   "cell_type": "raw",
   "metadata": {},
   "source": [
    "---\n",
    "title: \"About\"\n",
    "image: images/profile.jpg\n",
    "about:\n",
    "  template: jolla\n",
    "  links:\n",
    "    - icon: linkedin\n",
    "      text: LinkedIn\n",
    "      href: https://www.linkedin.com/in/petercbull/\n",
    "    - icon: github\n",
    "      text: Github\n",
    "      href: https://github.com/peterbull\n",
    "    - icon: envelope\n",
    "      text: Email\n",
    "      href: mailto:petercbull@gmail.com\n",
    "---\n",
    "\n",
    "Current BIM/Project Manager in the Architectural field(buildings, not bytes), aspiring AI dabbler. "
   ]
  }
 ],
 "metadata": {
  "kernelspec": {
   "display_name": "Python 3 (ipykernel)",
   "language": "python",
   "name": "python3"
  },
  "language_info": {
   "codemirror_mode": {
    "name": "ipython",
    "version": 3
   },
   "file_extension": ".py",
   "mimetype": "text/x-python",
   "name": "python",
   "nbconvert_exporter": "python",
   "pygments_lexer": "ipython3",
   "version": "3.10.10"
  }
 },
 "nbformat": 4,
 "nbformat_minor": 2
}
