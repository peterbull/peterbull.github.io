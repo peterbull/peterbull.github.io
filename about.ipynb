{
 "cells": [
  {
   "cell_type": "raw",
   "metadata": {},
   "source": [
    "---\n",
    "title: \"About\"\n",
    "image: images/profile.jpg\n",
    "about:\n",
    "  template: jolla\n",
    "  links:\n",
    "    - icon: linkedin\n",
    "      text: LinkedIn\n",
    "      href: https://www.linkedin.com/in/petercbull/\n",
    "    - icon: github\n",
    "      text: Github\n",
    "      href: https://github.com/peterbull\n",
    "    - icon: envelope\n",
    "      text: Email\n",
    "      href: mailto:petercbull@gmail.com\n",
    "---\n",
    "\n",
    "Current BIM/Project Manager in the Architectural field(buildings, not bytes), aspiring AI dabbler. "
   ]
  }
 ],
 "metadata": {
  "language_info": {
   "name": "python"
  },
  "orig_nbformat": 4
 },
 "nbformat": 4,
 "nbformat_minor": 2
}
