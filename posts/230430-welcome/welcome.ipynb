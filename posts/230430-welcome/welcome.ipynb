{
 "cells": [
  {
   "cell_type": "raw",
   "metadata": {},
   "source": [
    "---\n",
    "title: \"Welcome\"\n",
    "author: \"Peter Bull\"\n",
    "date: \"2023-04-30\"\n",
    "image: \"thumbnail_me_garden.jpg\"\n",
    "categories: [news]\n",
    "---\n",
    "\n",
    "Hello to anyone out there curious enough to read my blog! There are a lot of fancy bells and whistles\n",
    "on the internet, and I'm honored you've chosen my little chirp to spend your theoretical-attention-economy\n",
    "dollars on. \n",
    "\n",
    "![](thumbnail_me_garden.jpg)\n",
    "\n",
    "So, a little about me, and what I'm trying to accomplish here:\n",
    "\n",
    "I'm a currently a project and BIM manager for an Architecture firm. That generally involves designing\n",
    "the thing that's going to get built, coordinating with the people who will actually build the thing that's going to get built, \n",
    "making sure they use 1/2\" Lag Bolts in the thing that's going to get built, you get the idea.\n",
    "\n",
    "I actually don't have any formal training in Architecture, but it was a career path that I wanted to persue\n",
    "after working for a few start-up companies that went belly up. It's something I definitely enjoy, but \n",
    "anyone that works in the field will tell you that the tools of the trade are a bit clunky and outdated\n",
    "to say the least. The distance between what's in your head and what's construction-ready is a lot larger\n",
    "than I think it can or ought to be.\n",
    "\n",
    "Enter my girlfriend, who's working on finishing her PhD, focused on machine learning and intentionality. She began\n",
    "working through the fastai deep learning for coders course at the recommendation of several colleagues and\n",
    "encouraged me to work through it alongside her.\n",
    "\n",
    "Fast forward a couple months, and here we are! I'm currently working through the second half of the fastai\n",
    "course and am excited to continue exploring what deep learning has to offer. If I can utilize it in some way\n",
    "to narrow the chasm between brain and built, I'll consider it a resounding success. \n",
    "\n",
    "For now, I'm happy to just keep learning, and to share my journey with anyone that wants to follow along.\n",
    "\n"
   ]
  }
 ],
 "metadata": {
  "language_info": {
   "name": "python"
  },
  "orig_nbformat": 4
 },
 "nbformat": 4,
 "nbformat_minor": 2
}
