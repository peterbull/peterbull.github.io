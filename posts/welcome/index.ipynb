{
 "cells": [
  {
   "cell_type": "raw",
   "metadata": {},
   "source": [
    "---\n",
    "title: \"Welcome To My Blog\"\n",
    "author: \"Tristan O'Malley\"\n",
    "date: \"2023-04-27\"\n",
    "categories: [news]\n",
    "---\n",
    "\n",
    "This is the first post in a Quarto blog. Welcome!\n",
    "\n",
    "![](thumbnail.jpg)\n",
    "\n",
    "Since this post doesn't specify an explicit `image`, the first image in the post will be used in the listing page of posts.\n"
   ]
  }
 ],
 "metadata": {
  "language_info": {
   "name": "python"
  },
  "orig_nbformat": 4
 },
 "nbformat": 4,
 "nbformat_minor": 2
}
