{
 "cells": [
  {
   "cell_type": "raw",
   "metadata": {},
   "source": [
    "---\n",
    "title: \"Peter Bull\"\n",
    "listing:\n",
    "  contents: posts\n",
    "  sort: \"date desc\"\n",
    "  type: default\n",
    "  categories: true\n",
    "  sort-ui: false\n",
    "  filter-ui: false\n",
    "page-layout: full\n",
    "title-block-banner: true\n",
    "---"
   ]
  }
 ],
 "metadata": {
  "kernelspec": {
   "display_name": "base",
   "language": "python",
   "name": "python3"
  },
  "language_info": {
   "name": "python",
   "version": "3.10.10"
  },
  "orig_nbformat": 4
 },
 "nbformat": 4,
 "nbformat_minor": 2
}
